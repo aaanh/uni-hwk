{
 "metadata": {
  "language_info": {
   "codemirror_mode": {
    "name": "ipython",
    "version": 3
   },
   "file_extension": ".py",
   "mimetype": "text/x-python",
   "name": "python",
   "nbconvert_exporter": "python",
   "pygments_lexer": "ipython3",
   "version": "3.8.5-final"
  },
  "orig_nbformat": 2,
  "kernelspec": {
   "name": "python385jvsc74a57bd06787530bf9925b057af33f954282f7ad07558b12920f3eef54087b2f6236d6d8",
   "display_name": "Python 3.8.5 64-bit (conda)"
  }
 },
 "nbformat": 4,
 "nbformat_minor": 2,
 "cells": [
  {
   "source": [
    "# making-my-life-easier-by-using-python-for-data-manip.ipynb"
   ],
   "cell_type": "markdown",
   "metadata": {}
  },
  {
   "cell_type": "code",
   "execution_count": 1,
   "metadata": {},
   "outputs": [],
   "source": [
    "import pandas as pd"
   ]
  },
  {
   "cell_type": "code",
   "execution_count": 4,
   "metadata": {},
   "outputs": [],
   "source": [
    "# create cleaned folder\n",
    "!mkdir cleaned"
   ]
  },
  {
   "cell_type": "code",
   "execution_count": 3,
   "metadata": {},
   "outputs": [
    {
     "output_type": "stream",
     "name": "stderr",
     "text": [
      "C:\\Users\\Hoang Anh\\AppData\\Roaming\\Python\\Python38\\site-packages\\IPython\\core\\interactiveshell.py:3062: DtypeWarning: Columns (16) have mixed types.Specify dtype option on import or set low_memory=False.\n  has_raised = await self.run_ast_nodes(code_ast.body, cell_name,\n"
     ]
    }
   ],
   "source": [
    "entity = pd.read_csv(\"panama_papers.nodes.entity.csv\")"
   ]
  },
  {
   "cell_type": "code",
   "execution_count": 4,
   "metadata": {},
   "outputs": [],
   "source": [
    "to_drop = [\"incorporation_date\", \"inactivation_date\", \"struck_off_date\", \"closed_date\", \"ibcRUC\", \"status\", \"company_type\", \"sourceID\", \"service_provider\", \"valid_until\", \"note\"]\n",
    "entity = entity.drop(labels=to_drop, axis=1)"
   ]
  },
  {
   "cell_type": "code",
   "execution_count": 5,
   "metadata": {},
   "outputs": [],
   "source": [
    "entity.to_csv(\"cleaned/entity.csv\", index=False)"
   ]
  },
  {
   "cell_type": "code",
   "execution_count": 2,
   "metadata": {},
   "outputs": [],
   "source": [
    "cleaned_entity = pd.read_csv(\"cleaned/entity.csv\")"
   ]
  },
  {
   "cell_type": "code",
   "execution_count": 5,
   "metadata": {},
   "outputs": [
    {
     "output_type": "execute_result",
     "data": {
      "text/plain": [
       "Index(['node_id', 'name', 'jurisdiction', 'jurisdiction_description',\n",
       "       'country_codes', 'countries'],\n",
       "      dtype='object')"
      ]
     },
     "metadata": {},
     "execution_count": 5
    }
   ],
   "source": [
    "cleaned_entity.columns"
   ]
  },
  {
   "cell_type": "code",
   "execution_count": 15,
   "metadata": {},
   "outputs": [
    {
     "output_type": "execute_result",
     "data": {
      "text/plain": [
       "node_id                      int64\n",
       "name                        object\n",
       "jurisdiction                object\n",
       "jurisdiction_description    object\n",
       "country_codes               object\n",
       "countries                   object\n",
       "dtype: object"
      ]
     },
     "metadata": {},
     "execution_count": 15
    }
   ],
   "source": [
    "cleaned_entity.dtypes"
   ]
  },
  {
   "cell_type": "code",
   "execution_count": 8,
   "metadata": {},
   "outputs": [],
   "source": [
    "cleaned_entity[\"name\"] = cleaned_entity[\"name\"].str.replace(r'\"', '')"
   ]
  },
  {
   "cell_type": "code",
   "execution_count": 9,
   "metadata": {},
   "outputs": [
    {
     "output_type": "stream",
     "name": "stdout",
     "text": [
      "Feature: name\n['TIANSHENG INDUSTRY AND TRADING CO. LTD.'\n 'NINGBO SUNRISE ENTERPRISES UNITED CO. LTD.' 'HOTFOCUS CO. LTD.' ...\n 'LARK OVERSEAS INVESTMENT LIMITED' 'ASTRA SKIES  LIMITED'\n 'Kilimanjaro Capital Limited']\nFeature: jurisdiction\n['SAM' 'PMA' 'NEV' 'UK' 'SGP' 'RAK' 'IOM' 'ANG' 'SEY' 'NIUE' 'UY' 'BVI'\n 'HK' 'NZL' 'BAH' 'CYP' 'MLT' 'BLZ' 'JSY' 'WYO' 'CRI']\nFeature: jurisdiction_description\n['Samoa' 'Panama' 'Nevada' 'United Kingdom' 'Singapore' 'Ras Al Khaimah'\n 'Isle Of Man' 'British Anguilla' 'Seychelles' 'Niue' 'Uruguay'\n 'British Virgin Islands' 'Hong Kong' 'New Zealand' 'Bahamas' 'Cyprus'\n 'Malta' 'Belize' 'Jersey' 'Wyoming' 'Costa Rica']\nFeature: country_codes\n['HKG' 'TWN' 'CHN' 'CHE' 'SGP' 'BRA' 'PAN' 'WSM' 'LIE' 'ESP' 'THA' 'COL'\n 'JEY' 'AND' 'SYC' 'IRL' 'BEL' 'ISR' 'GIB' 'GGY' 'ARE' 'CYP' 'VEN' 'IMN'\n 'LBN' 'DNK' 'URY' 'JOR' 'BHS' 'GBR' nan 'BLZ' 'LUX' 'ECU' 'GTM' 'DEU'\n 'MUS' 'TUR' 'USA' 'MCO' 'EST' 'NIU' 'CZE' 'NLD' 'HUN' 'CRI' 'PRT' 'CYM'\n 'ZAF' 'MLT' 'NZL' 'CIV' 'DOM' 'FRA' 'ITA' 'CAN' 'RUS' 'GRC' 'SAU' 'QAT'\n 'MEX' 'PER' 'BMU' 'SLV' 'AUS' 'KNA' 'ARG' 'JPN' 'AUT' 'ASM' 'PRY' 'CHL'\n 'EGY' 'SWE' 'VGB' 'POL' 'SVN' 'PHL' 'LCA' 'IDN' 'HND' 'KOR' 'VCT' 'KWT'\n 'HTI' 'ZWE' 'SDN' 'NIC' 'TCA' 'LVA' 'NGA' 'UKR' 'AIA' 'KEN' 'ROU' 'NOR'\n 'BOL' 'LTU' 'VNM' 'ABW' 'BGR' 'MYS' 'FIN' 'IRN' 'LSO' 'MOZ' 'MAC' 'GHA'\n 'GEO' 'YEM' 'ATG' 'CUW' 'IND' 'MKD' 'MAR' 'SEN' 'DMA' 'NAM' 'BWA' 'CUB'\n 'LBR' 'COK' 'SYR' 'SXM' 'BLR' 'DJI' 'BRB' 'TUN' 'BHR' 'HRV' 'NRU' 'AZE'\n 'PAK' 'LBY' 'UGA' 'UZB' 'TTO' 'ISL' 'LKA' 'VIR' 'TZA' 'PRI' 'MWI' 'TCD'\n 'GUM' 'OMN' 'JAM' 'MLI' 'MNE' 'KAZ' 'VUT' 'MDA' 'AGO' 'BGD' 'CAF' 'BRN'\n 'ALB' 'CMR' 'ZMB' 'SVK']\nFeature: countries\n['Hong Kong' 'Taiwan' 'China' 'Switzerland' 'Singapore' 'Brazil' 'Panama'\n 'Samoa' 'Liechtenstein' 'Spain' 'Thailand' 'Colombia' 'Jersey' 'Andorra'\n 'Seychelles' 'Ireland' 'Belgium' 'Israel' 'Gibraltar' 'Guernsey'\n 'United Arab Emirates' 'Cyprus' 'Venezuela' 'Isle of Man' 'Lebanon'\n 'Denmark' 'Uruguay' 'Jordan' 'Bahamas' 'United Kingdom' nan 'Belize'\n 'Luxembourg' 'Ecuador' 'Guatemala' 'Germany' 'Mauritius' 'Turkey'\n 'United States' 'Monaco' 'Estonia' 'Niue' 'Czech Republic' 'Netherlands'\n 'Hungary' 'Costa Rica' 'Portugal' 'Cayman Islands' 'South Africa' 'Malta'\n 'New Zealand' \"Côte d'Ivoire\" 'Dominican Republic' 'France' 'Italy'\n 'Canada' 'Russia' 'Greece' 'Saudi Arabia' 'Qatar' 'Mexico' 'Peru'\n 'Bermuda' 'El Salvador' 'Australia' 'Saint Kitts and Nevis' 'Argentina'\n 'Japan' 'Austria' 'American Samoa' 'Paraguay' 'Chile' 'Egypt' 'Sweden'\n 'British Virgin Islands' 'Poland' 'Slovenia' 'Philippines' 'Saint Lucia'\n 'Indonesia' 'Honduras' 'South Korea' 'Saint Vincent and the Grenadines'\n 'Kuwait' 'Haiti' 'Zimbabwe' 'Sudan' 'Nicaragua'\n 'Turks and Caicos Islands' 'Latvia' 'Nigeria' 'Ukraine' 'Anguilla'\n 'Kenya' 'Romania' 'Norway' 'Bolivia' 'Lithuania' 'Viet Nam' 'Aruba'\n 'Bulgaria' 'Malaysia' 'Finland' 'Iran' 'Lesotho' 'Mozambique' 'Macao'\n 'Ghana' 'Georgia' 'Yemen' 'Antigua and Barbuda' 'Curaçao' 'India'\n 'Macedonia' 'Morocco' 'Senegal' 'Dominica' 'Namibia' 'Botswana' 'Cuba'\n 'Liberia' 'Cook Islands' 'Syria' 'Sint Maarten (Dutch part)' 'Belarus'\n 'Djibouti' 'Barbados' 'Tunisia' 'Bahrain' 'Croatia' 'Nauru' 'Azerbaijan'\n 'Pakistan' 'Libya' 'Uganda' 'Uzbekistan' 'Trinidad and Tobago' 'Iceland'\n 'Sri Lanka' 'U.S. Virgin Islands' 'Tanzania' 'Puerto Rico' 'Malawi'\n 'Chad' 'Guam' 'Oman' 'Jamaica' 'Mali' 'Montenegro' 'Kazakhstan' 'Vanuatu'\n 'Moldova' 'Angola' 'Bangladesh' 'Central African Republic' 'Brunei'\n 'Albania' 'Cameroon' 'Zambia' 'Slovakia']\n"
     ]
    }
   ],
   "source": [
    "for cat in cleaned_entity.columns:\n",
    "    if (cat != \"node_id\"):\n",
    "        print(\"Feature:\" ,cat)\n",
    "        print(cleaned_entity[cat].unique())\n",
    "    "
   ]
  },
  {
   "cell_type": "code",
   "execution_count": 10,
   "metadata": {},
   "outputs": [],
   "source": [
    "cleaned_entity.to_csv(\"cleaned/entity.csv\", index=False)"
   ]
  },
  {
   "cell_type": "code",
   "execution_count": 3,
   "metadata": {},
   "outputs": [
    {
     "output_type": "execute_result",
     "data": {
      "text/plain": [
       "0         10000001\n",
       "1         10000002\n",
       "2         10000003\n",
       "3         10000004\n",
       "4         10000005\n",
       "            ...   \n",
       "213629    10214482\n",
       "213630    10214483\n",
       "213631    10214484\n",
       "213632    10214486\n",
       "213633    10214487\n",
       "Name: node_id, Length: 213634, dtype: int64"
      ]
     },
     "metadata": {},
     "execution_count": 3
    }
   ],
   "source": [
    "cleaned_entity[\"node_id\"]"
   ]
  },
  {
   "cell_type": "code",
   "execution_count": null,
   "metadata": {},
   "outputs": [],
   "source": []
  }
 ]
}