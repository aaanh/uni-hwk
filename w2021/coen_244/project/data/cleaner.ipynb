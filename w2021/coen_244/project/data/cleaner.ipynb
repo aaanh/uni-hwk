{
 "metadata": {
  "language_info": {
   "codemirror_mode": {
    "name": "ipython",
    "version": 3
   },
   "file_extension": ".py",
   "mimetype": "text/x-python",
   "name": "python",
   "nbconvert_exporter": "python",
   "pygments_lexer": "ipython3",
   "version": "3.8.5"
  },
  "orig_nbformat": 2,
  "kernelspec": {
   "name": "python385jvsc74a57bd06787530bf9925b057af33f954282f7ad07558b12920f3eef54087b2f6236d6d8",
   "display_name": "Python 3.8.5 64-bit"
  }
 },
 "nbformat": 4,
 "nbformat_minor": 2,
 "cells": [
  {
   "source": [
    "# making-my-life-easier-by-using-python-for-data-manip.ipynb"
   ],
   "cell_type": "markdown",
   "metadata": {}
  },
  {
   "cell_type": "code",
   "execution_count": 1,
   "metadata": {},
   "outputs": [],
   "source": [
    "import pandas as pd"
   ]
  },
  {
   "cell_type": "code",
   "execution_count": 4,
   "metadata": {},
   "outputs": [],
   "source": [
    "# create cleaned folder\n",
    "!mkdir cleaned"
   ]
  },
  {
   "cell_type": "code",
   "execution_count": 3,
   "metadata": {},
   "outputs": [
    {
     "output_type": "stream",
     "name": "stderr",
     "text": [
      "C:\\Users\\Hoang Anh\\AppData\\Roaming\\Python\\Python38\\site-packages\\IPython\\core\\interactiveshell.py:3062: DtypeWarning: Columns (16) have mixed types.Specify dtype option on import or set low_memory=False.\n  has_raised = await self.run_ast_nodes(code_ast.body, cell_name,\n"
     ]
    }
   ],
   "source": [
    "entity = pd.read_csv(\"panama_papers.nodes.entity.csv\")"
   ]
  },
  {
   "cell_type": "code",
   "execution_count": 4,
   "metadata": {},
   "outputs": [],
   "source": [
    "to_drop = [\"incorporation_date\", \"inactivation_date\", \"struck_off_date\", \"closed_date\", \"ibcRUC\", \"status\", \"company_type\", \"sourceID\", \"service_provider\", \"valid_until\", \"note\"]\n",
    "entity = entity.drop(labels=to_drop, axis=1)"
   ]
  },
  {
   "cell_type": "code",
   "execution_count": 5,
   "metadata": {},
   "outputs": [],
   "source": [
    "entity.to_csv(\"cleaned/entity.csv\", index=False)"
   ]
  },
  {
   "cell_type": "code",
   "execution_count": 2,
   "metadata": {},
   "outputs": [],
   "source": [
    "cleaned_entity = pd.read_csv(\"cleaned/entity.csv\")"
   ]
  },
  {
   "cell_type": "code",
   "execution_count": 3,
   "metadata": {},
   "outputs": [
    {
     "output_type": "execute_result",
     "data": {
      "text/plain": [
       "Index(['node_id', 'name', 'jurisdiction', 'jurisdiction_description',\n",
       "       'country_codes', 'countries'],\n",
       "      dtype='object')"
      ]
     },
     "metadata": {},
     "execution_count": 3
    }
   ],
   "source": [
    "cleaned_entity.columns"
   ]
  },
  {
   "cell_type": "code",
   "execution_count": 15,
   "metadata": {},
   "outputs": [
    {
     "output_type": "execute_result",
     "data": {
      "text/plain": [
       "node_id                      int64\n",
       "name                        object\n",
       "jurisdiction                object\n",
       "jurisdiction_description    object\n",
       "country_codes               object\n",
       "countries                   object\n",
       "dtype: object"
      ]
     },
     "metadata": {},
     "execution_count": 15
    }
   ],
   "source": [
    "cleaned_entity.dtypes"
   ]
  },
  {
   "cell_type": "code",
   "execution_count": 8,
   "metadata": {},
   "outputs": [],
   "source": [
    "cleaned_entity[\"name\"] = cleaned_entity[\"name\"].str.replace(r'\"', '')"
   ]
  },
  {
   "cell_type": "code",
   "execution_count": 5,
   "metadata": {},
   "outputs": [
    {
     "output_type": "stream",
     "name": "stdout",
     "text": [
      "Feature: name\n1996\nFeature: jurisdiction\n6\nFeature: jurisdiction_description\n6\nFeature: country_codes\n52\nFeature: countries\n52\n"
     ]
    }
   ],
   "source": [
    "for cat in cleaned_entity.columns:\n",
    "    if (cat != \"node_id\"):\n",
    "        print(\"Feature:\" , cat)\n",
    "        print(len(cleaned_entity[cat].unique()))\n",
    "    "
   ]
  },
  {
   "cell_type": "code",
   "execution_count": 7,
   "metadata": {},
   "outputs": [
    {
     "output_type": "execute_result",
     "data": {
      "text/plain": [
       "LONGFIELD DEVELOPMENTS LIMITED            2\n",
       "HAMPTON INVESTMENTS LIMITED               2\n",
       "DUNSTONE INCORPORATED                     2\n",
       "OCEAN TALENT SEAFOOD LIMITED              1\n",
       "LOK MAN GROUP LIMITED                     1\n",
       "                                         ..\n",
       "Beifang Metal Trading Limited             1\n",
       "OUR MEDICAL SERVICES LTD.                 1\n",
       "MOSSACK FONSECA & CO. (SAMOA) LIMITED.    1\n",
       "OOO COMPO-TEX CO. LTD.                    1\n",
       "PEAK MOUNT INTERNATIONAL LTD.             1\n",
       "Name: name, Length: 1996, dtype: int64"
      ]
     },
     "metadata": {},
     "execution_count": 7
    }
   ],
   "source": [
    "cleaned_entity[\"name\"].value_counts()"
   ]
  },
  {
   "cell_type": "code",
   "execution_count": 10,
   "metadata": {},
   "outputs": [],
   "source": [
    "cleaned_entity.to_csv(\"cleaned/entity.csv\", index=False)"
   ]
  },
  {
   "cell_type": "code",
   "execution_count": 3,
   "metadata": {},
   "outputs": [
    {
     "output_type": "execute_result",
     "data": {
      "text/plain": [
       "0         10000001\n",
       "1         10000002\n",
       "2         10000003\n",
       "3         10000004\n",
       "4         10000005\n",
       "            ...   \n",
       "213629    10214482\n",
       "213630    10214483\n",
       "213631    10214484\n",
       "213632    10214486\n",
       "213633    10214487\n",
       "Name: node_id, Length: 213634, dtype: int64"
      ]
     },
     "metadata": {},
     "execution_count": 3
    }
   ],
   "source": [
    "cleaned_entity[\"node_id\"]"
   ]
  },
  {
   "cell_type": "code",
   "execution_count": null,
   "metadata": {},
   "outputs": [],
   "source": []
  }
 ]
}